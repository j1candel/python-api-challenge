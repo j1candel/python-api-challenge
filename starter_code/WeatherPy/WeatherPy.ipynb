{
 "cells": [
  {
   "cell_type": "markdown",
   "metadata": {},
   "source": [
    "# WeatherPy\n",
    "----\n",
    "\n",
    "#### Note\n",
    "* Instructions have been included for each segment. You do not have to follow them exactly, but they are included to help you think through the steps."
   ]
  },
  {
   "cell_type": "code",
   "execution_count": 2,
   "metadata": {
    "scrolled": true
   },
   "outputs": [],
   "source": [
    "#Importing Modules \n",
    "import os\n",
    "import csv\n",
    "import matplotlib as matplot\n",
    "import json \n",
    "import pandas as pd\n",
    "import numpy as np\n",
    "import requests\n",
    "from matplotlib import pyplot as plt\n",
    "from scipy.stats import linregress\n",
    "\n",
    "#Importing weather api key\n",
    "api_key = 'e7909cb56283b125242b31247d3922d8'\n",
    "\n",
    "#Importing City Cordinate Library \n",
    "from citipy import citipy"
   ]
  },
  {
   "cell_type": "markdown",
   "metadata": {},
   "source": [
    "## Generate Cities List"
   ]
  },
  {
   "cell_type": "code",
   "execution_count": 3,
   "metadata": {},
   "outputs": [
    {
     "data": {
      "text/plain": [
       "650"
      ]
     },
     "execution_count": 3,
     "metadata": {},
     "output_type": "execute_result"
    }
   ],
   "source": [
    "#Defining variables as lists \n",
    "city_list = []\n",
    "cordinates = []\n",
    "\n",
    "#Making a random list of 600 cities \n",
    "np.random.seed(14949)\n",
    "\n",
    "#Picking numbers within the range of latitudes \n",
    "lat = np.random.randint(-90, 90, size = 1700)\n",
    "\n",
    "#Picking numbers within the range of longitudes  \n",
    "long = np.random.randint(-180, 180, size = 1700)\n",
    "\n",
    "#Putting the coridnates together \n",
    "cordinates = zip(lat, long)\n",
    "\n",
    "\n",
    "for cordinates in cordinates: \n",
    "    city = citipy.nearest_city(cordinates[0], cordinates[1]).city_name\n",
    "    \n",
    "    if city not in city_list:\n",
    "        city_list.append(city)\n",
    "\n",
    "len(city_list)"
   ]
  },
  {
   "cell_type": "markdown",
   "metadata": {},
   "source": [
    "### Perform API Calls\n",
    "* Perform a weather check on each city using a series of successive API calls.\n",
    "* Include a print log of each city as it'sbeing processed (with the city number and city name).\n"
   ]
  },
  {
   "cell_type": "code",
   "execution_count": 5,
   "metadata": {},
   "outputs": [
    {
     "data": {
      "text/plain": [
       "{'coord': {'lon': -117.93, 'lat': 33.87},\n",
       " 'weather': [{'id': 800,\n",
       "   'main': 'Clear',\n",
       "   'description': 'clear sky',\n",
       "   'icon': '01d'}],\n",
       " 'base': 'stations',\n",
       " 'main': {'temp': 81.37,\n",
       "  'feels_like': 82.58,\n",
       "  'temp_min': 75,\n",
       "  'temp_max': 84.99,\n",
       "  'pressure': 1012,\n",
       "  'humidity': 54},\n",
       " 'visibility': 10000,\n",
       " 'wind': {'speed': 5.82, 'deg': 0},\n",
       " 'clouds': {'all': 1},\n",
       " 'dt': 1601240282,\n",
       " 'sys': {'type': 1,\n",
       "  'id': 4154,\n",
       "  'country': 'US',\n",
       "  'sunrise': 1601214218,\n",
       "  'sunset': 1601257275},\n",
       " 'timezone': -25200,\n",
       " 'id': 5351247,\n",
       " 'name': 'Fullerton',\n",
       " 'cod': 200}"
      ]
     },
     "execution_count": 5,
     "metadata": {},
     "output_type": "execute_result"
    }
   ],
   "source": [
    "url =  'http://api.openweathermap.org/data/2.5/weather?'\n",
    "city = 'Fullerton'\n",
    "query_url = url + 'appid=' + api_key + '&q=' + city + '&units=imperial'\n",
    "weather_response = requests.get(query_url)\n",
    "weather_data = weather_response.json()\n",
    "\n",
    "weather_data"
   ]
  },
  {
   "cell_type": "code",
   "execution_count": 6,
   "metadata": {
    "scrolled": true
   },
   "outputs": [
    {
     "name": "stdout",
     "output_type": "stream",
     "text": [
      "City List\n",
      "-----------------------\n",
      "1|martyush\n",
      "2|la ronge\n",
      "3|laguna\n",
      "4|ajaccio\n",
      "5|srednekolymsk\n",
      "6|kodiak\n",
      "7|saldanha\n",
      "8|west bay\n",
      "9|albany\n",
      "10|georgetown\n",
      "11|utevka\n",
      "12|punta arenas\n",
      "13|berlevag\n",
      "14|carnarvon\n",
      "15|port alfred\n",
      "16|bredasdorp\n",
      "17|kapaa\n",
      "18|pingxiang\n",
      "19|cerinza\n",
      "20|gerash\n",
      "21|kathmandu\n",
      "22|tumannyy does not exist\n",
      "23|rikitea\n",
      "24|tostamaa does not exist\n",
      "25|bandarbeyla\n",
      "26|belushya guba does not exist\n",
      "27|kysyl-syr\n",
      "28|kaitangata\n",
      "29|hermanus\n",
      "30|codajas\n",
      "31|mataura\n",
      "32|saskylakh\n",
      "33|ushibuka\n",
      "34|illoqqortoormiut does not exist\n",
      "35|atuona\n",
      "36|leningradskiy\n",
      "37|iskateley\n",
      "38|nardaran\n",
      "39|nelson bay\n",
      "40|alofi\n",
      "41|chokurdakh\n",
      "42|mehamn\n",
      "43|baft\n",
      "44|taolanaro does not exist\n",
      "45|paysandu\n",
      "46|sitka\n",
      "47|lebu\n",
      "48|hokitika\n",
      "49|cairns\n",
      "50|hobart\n",
      "51|raudeberg\n",
      "52|pontianak\n",
      "53|east london\n",
      "54|boyle\n",
      "55|grand centre does not exist\n",
      "56|dikson\n",
      "57|dom pedrito\n",
      "58|cape town\n",
      "59|hilo\n",
      "60|husavik\n",
      "61|puerto ayora\n",
      "62|koscierzyna\n",
      "63|leh\n",
      "64|gladstone\n",
      "65|saint-augustin\n",
      "66|mogwase\n",
      "67|kovernino\n",
      "68|provideniya\n",
      "69|balykshi does not exist\n",
      "70|tsihombe does not exist\n",
      "71|igarka\n",
      "72|christchurch\n",
      "73|yellowknife\n",
      "74|khatanga\n",
      "75|ibicui\n",
      "76|florence\n",
      "77|mpongwe\n",
      "78|ushuaia\n",
      "79|mezen\n",
      "80|port hardy\n",
      "81|nizhneyansk does not exist\n",
      "82|nome\n",
      "83|roma\n",
      "84|bluff\n",
      "85|luang prabang\n",
      "86|avarua\n",
      "87|ulaangom\n",
      "88|new norfolk\n",
      "89|kruisfontein\n",
      "90|ilebo\n",
      "91|hanover\n",
      "92|los llanos de aridane\n",
      "93|tlahualilo does not exist\n",
      "94|iqaluit\n",
      "95|stadskanaal\n",
      "96|havre-saint-pierre\n",
      "97|scottsburgh does not exist\n",
      "98|kawana waters does not exist\n",
      "99|tral\n",
      "100|barrow\n",
      "101|klaksvik\n",
      "102|samusu does not exist\n",
      "103|torres\n",
      "104|atasu\n",
      "105|mallaig\n",
      "106|goianesia\n",
      "107|cherskiy\n",
      "108|castro\n",
      "109|lata\n",
      "110|nikolskoye\n",
      "111|busselton\n",
      "112|faanui\n",
      "113|sao filipe\n",
      "114|ponta do sol\n",
      "115|broken hill\n",
      "116|praia\n",
      "117|port elizabeth\n",
      "118|atar\n",
      "119|vaitupu does not exist\n",
      "120|buala\n",
      "121|muros\n",
      "122|banmo does not exist\n",
      "123|fortuna\n",
      "124|arraial do cabo\n",
      "125|padang\n",
      "126|popondetta\n",
      "127|san quintin\n",
      "128|luderitz\n",
      "129|the valley\n",
      "130|seligenstadt\n",
      "131|barahan\n",
      "132|kahului\n",
      "133|manokwari\n",
      "134|norman wells\n",
      "135|bahir dar\n",
      "136|inhambane\n",
      "137|walvis bay\n",
      "138|pevek\n",
      "139|bianzhuang\n",
      "140|sentyabrskiy does not exist\n",
      "141|saiki\n",
      "142|jalu\n",
      "143|bonavista\n",
      "144|baie-comeau\n",
      "145|mar del plata\n",
      "146|tasiilaq\n",
      "147|santa isabel\n",
      "148|eston\n",
      "149|ayagoz\n",
      "150|tuktoyaktuk\n",
      "151|vila franca do campo\n",
      "152|sontra\n",
      "153|rochegda\n",
      "154|tulagi\n",
      "155|gizo\n",
      "156|bethel\n",
      "157|upernavik\n",
      "158|anjozorobe\n",
      "159|zhanakorgan\n",
      "160|amderma does not exist\n",
      "161|cabo san lucas\n",
      "162|garowe\n",
      "163|saint pete beach\n",
      "164|dekoa does not exist\n",
      "165|hasaki\n",
      "166|sao joao da barra\n",
      "167|lagoa\n",
      "168|chitungwiza\n",
      "169|portland\n",
      "170|vila velha\n",
      "171|kodar\n",
      "172|vaini\n",
      "173|beloha\n",
      "174|tizimin\n",
      "175|cacequi\n",
      "176|cullman\n",
      "177|barentsburg does not exist\n",
      "178|homer\n",
      "179|ishigaki\n",
      "180|fort nelson\n",
      "181|vestmannaeyjar\n",
      "182|rorvik\n",
      "183|esperance\n",
      "184|mweka\n",
      "185|ilulissat\n",
      "186|mitha tiwana\n",
      "187|itarema\n",
      "188|nogliki\n",
      "189|shenjiamen\n",
      "190|sinjai\n",
      "191|kurilsk\n",
      "192|batagay-alyta\n",
      "193|hami\n",
      "194|fallon\n",
      "195|chuy\n",
      "196|aras\n",
      "197|coquimbo\n",
      "198|el alto\n",
      "199|hithadhoo\n",
      "200|sorland\n",
      "201|butaritari\n",
      "202|hwange\n",
      "203|souillac\n",
      "204|yerbogachen\n",
      "205|turukhansk\n",
      "206|bathsheba\n",
      "207|mallama does not exist\n",
      "208|banjar\n",
      "209|inirida\n",
      "210|petropavlovsk-kamchatskiy\n",
      "211|saint-philippe\n",
      "212|omboue\n",
      "213|nouadhibou\n",
      "214|sandwick\n",
      "215|kavieng\n",
      "216|kavaratti\n",
      "217|mareeba\n",
      "218|nam tha does not exist\n",
      "219|karratha\n",
      "220|lavrentiya\n",
      "221|bima\n",
      "222|kapit\n",
      "223|ilinsko-podomskoye does not exist\n",
      "224|palmer\n",
      "225|qaanaaq\n",
      "226|bayanday\n",
      "227|yatou\n",
      "228|kulhudhuffushi\n",
      "229|fergus falls\n",
      "230|qandala\n",
      "231|iacu\n",
      "232|batemans bay\n",
      "233|olafsvik\n",
      "234|nabire\n",
      "235|camacha\n",
      "236|pingliang\n",
      "237|cozumel\n",
      "238|college\n",
      "239|saint-joseph\n",
      "240|yulara\n",
      "241|airai\n",
      "242|massena\n",
      "243|cidreira\n",
      "244|dongsheng\n",
      "245|mahebourg\n",
      "246|escanaba\n",
      "247|virginia beach\n",
      "248|ribeira grande\n",
      "249|mogadishu\n",
      "250|wewak\n",
      "251|terra santa\n",
      "252|port-gentil\n",
      "253|kyzyl-mazhalyk\n",
      "254|nemuro\n",
      "255|katsuura\n",
      "256|valparaiso\n",
      "257|allapalli\n",
      "258|sorong\n",
      "259|bhasawar\n",
      "260|salinas\n",
      "261|thompson\n",
      "262|meulaboh\n",
      "263|bubaque\n",
      "264|basco\n",
      "265|mount isa\n",
      "266|caluquembe\n",
      "267|shintomi\n",
      "268|pisco\n",
      "269|jamestown\n",
      "270|tiksi\n",
      "271|victoria\n",
      "272|etla\n",
      "273|codrington\n",
      "274|purranque\n",
      "275|tilichiki\n",
      "276|paramonga\n",
      "277|tezu\n",
      "278|genhe\n",
      "279|aykhal\n",
      "280|ola\n",
      "281|buncrana\n",
      "282|kerema\n",
      "283|saint anthony\n",
      "284|namibe\n",
      "285|yinchuan\n",
      "286|erzin\n",
      "287|ambon\n",
      "288|lumut\n",
      "289|murray\n",
      "290|mingguang\n",
      "291|carutapera\n",
      "292|umm lajj\n",
      "293|poronaysk\n",
      "294|wuzhou\n",
      "295|umzimvubu does not exist\n",
      "296|robertsport\n",
      "297|oranjemund\n",
      "298|derzhavinsk\n",
      "299|bara\n",
      "300|wuwei\n",
      "301|poum\n",
      "302|cap-aux-meules\n",
      "303|slave lake\n",
      "304|imperia\n",
      "305|damietta\n",
      "306|cockburn harbour does not exist\n",
      "307|sanchursk\n",
      "308|moscow\n",
      "309|benguela\n",
      "310|grindavik\n",
      "311|avera\n",
      "312|abha\n",
      "313|jabinyanah\n",
      "314|kismayo\n",
      "315|orshanka\n",
      "316|komsomolskiy\n",
      "317|kangaatsiaq\n",
      "318|ayr\n",
      "319|puerto ayacucho\n",
      "320|tukrah\n",
      "321|bilibino\n",
      "322|mayo\n",
      "323|medea\n",
      "324|real\n",
      "325|tigil\n",
      "326|east wenatchee\n",
      "327|saint george\n",
      "328|qui nhon\n",
      "329|nuevo ideal\n",
      "330|caravelas\n",
      "331|ayan\n",
      "332|astoria\n",
      "333|uhlove\n",
      "334|richards bay\n",
      "335|bolgar\n",
      "336|riverton\n",
      "337|carmen\n",
      "338|darnah\n",
      "339|heerenveen\n",
      "340|mao\n",
      "341|armacao dos buzios does not exist\n",
      "342|bereznik\n",
      "343|socorro\n",
      "344|morehead\n",
      "345|juneau\n",
      "346|biak\n",
      "347|dudinka\n",
      "348|burlington\n",
      "349|spirit river\n",
      "350|nizhniy tagil\n",
      "351|jenks\n",
      "352|morondava\n",
      "353|mountain home\n",
      "354|alyangula\n",
      "355|sicuani\n",
      "356|cam ranh\n",
      "357|jesus del monte\n",
      "358|nampula\n",
      "359|mitsamiouli\n",
      "360|rungata does not exist\n",
      "361|lolua does not exist\n",
      "362|beringovskiy\n",
      "363|touros\n",
      "364|serenje\n",
      "365|navoi\n",
      "366|petropavlovka\n",
      "367|bengkulu\n",
      "368|langxiang\n",
      "369|shaunavon\n",
      "370|dawlatabad\n",
      "371|addanki\n",
      "372|mirnyy\n",
      "373|ancud\n",
      "374|aklavik\n",
      "375|kentau\n",
      "376|saleaula does not exist\n",
      "377|bonthe\n",
      "378|kokopo\n",
      "379|rawah\n",
      "380|elizabeth city\n",
      "381|severo-kurilsk\n",
      "382|lomza\n",
      "383|geraldton\n",
      "384|manta\n",
      "385|sur\n",
      "386|namatanai\n",
      "387|korla\n",
      "388|sisimiut\n",
      "389|canberra\n",
      "390|salinopolis\n",
      "391|puerto madryn\n",
      "392|jega\n",
      "393|prince rupert\n",
      "394|crestview\n",
      "395|clyde river\n",
      "396|palabuhanratu does not exist\n",
      "397|sijunjung\n",
      "398|alice springs\n",
      "399|grand river south east does not exist\n",
      "400|yakima\n",
      "401|waipawa\n",
      "402|edd\n",
      "403|buraydah\n",
      "404|hit\n",
      "405|champerico\n",
      "406|bay-ang\n",
      "407|narsaq\n",
      "408|marsh harbour\n",
      "409|samarai\n",
      "410|broome\n",
      "411|hihifo does not exist\n",
      "412|mys shmidta does not exist\n",
      "413|boa vista\n",
      "414|udachnyy\n",
      "415|avrameni\n",
      "416|guerrero negro\n",
      "417|henties bay\n",
      "418|oga\n",
      "419|vanavara\n",
      "420|manicore\n",
      "421|kieta\n",
      "422|port lincoln\n",
      "423|guadalupe y calvo\n",
      "424|santa cruz\n",
      "425|nhulunbuy\n",
      "426|dalbandin\n",
      "427|yumen\n",
      "428|torbay\n",
      "429|paamiut\n",
      "430|westport\n",
      "431|zhaotong\n",
      "432|constitucion\n",
      "433|siocon\n",
      "434|marcona does not exist\n",
      "435|axim\n",
      "436|ujhani\n",
      "437|el guamo\n",
      "438|oktyabrskiy\n",
      "439|george\n",
      "440|yerofey pavlovich\n",
      "441|hobyo\n",
      "442|acarau\n",
      "443|enshi\n",
      "444|buchanan\n",
      "445|harer\n",
      "446|esmeraldas\n",
      "447|longyearbyen\n",
      "448|arroyo\n",
      "449|ploemeur\n",
      "450|dong hoi\n",
      "451|zhengjiatun\n",
      "452|san lawrenz\n",
      "453|tarakan\n",
      "454|zvishavane\n",
      "455|nykoping\n",
      "456|tombouctou\n",
      "457|tuatapere\n",
      "458|lima duarte\n",
      "459|labuhan\n",
      "460|dongying\n",
      "461|las palmas\n",
      "462|kattivakkam\n",
      "463|zemio\n",
      "464|erenhot\n",
      "465|angra does not exist\n",
      "466|andenes\n",
      "467|kui buri\n",
      "468|weihai\n",
      "469|orlik\n",
      "470|ontario\n",
      "471|bonito\n",
      "472|balkhash\n",
      "473|alugan\n",
      "474|ystad\n",
      "475|young\n",
      "476|birao\n",
      "477|santa fe\n",
      "478|hvammstangi does not exist\n",
      "479|kamenskoye does not exist\n",
      "480|veraval\n",
      "481|haibowan does not exist\n",
      "482|ntcheu\n",
      "483|galle\n",
      "484|cabedelo\n",
      "485|nguiu does not exist\n",
      "486|shepetivka\n",
      "487|antofagasta\n",
      "488|maningrida\n",
      "489|calceta\n",
      "490|hirara\n",
      "491|tidore does not exist\n",
      "492|ouro fino\n",
      "493|alta floresta\n",
      "494|lompoc\n",
      "495|giyani\n",
      "496|kutum\n",
      "497|ostrovnoy\n",
      "498|sioux lookout\n",
      "499|egvekinot\n",
      "500|deer lake\n",
      "501|zambezi\n",
      "502|santa rosa del sur\n",
      "503|alpena\n",
      "504|bombay\n",
      "505|necochea\n",
      "506|northam\n",
      "507|bucerias\n",
      "508|arman\n",
      "509|topchikha\n",
      "510|moerai\n",
      "511|vrangel\n",
      "512|la palma\n",
      "513|nizwa\n",
      "514|bilma\n",
      "515|salalah\n",
      "516|naze\n",
      "517|gimli\n",
      "518|pascagoula\n",
      "519|monster\n",
      "520|toliary does not exist\n",
      "521|barhi\n",
      "522|bambous virieux\n",
      "523|kimbe\n",
      "524|mount gambier\n",
      "525|sept-iles\n",
      "526|khirkiya\n",
      "527|nishihara\n",
      "528|morant bay\n",
      "529|umm kaddadah\n",
      "530|williamsport\n",
      "531|yar-sale\n",
      "532|ixtapa\n",
      "533|bur gabo does not exist\n",
      "534|cravo norte\n",
      "535|quatre cocos\n",
      "536|geresk does not exist\n",
      "537|mirandola\n",
      "538|machico\n",
      "539|attawapiskat does not exist\n",
      "540|nanortalik\n",
      "541|yaan\n",
      "542|bukama\n",
      "543|lyngseidet\n",
      "544|pudozh\n",
      "545|beyneu\n",
      "546|santa catarina de tepehuanes\n",
      "547|carahue\n",
      "548|hamilton\n",
      "549|ust-kamchatsk does not exist\n",
      "550|mahibadhoo\n",
      "551|lorengau\n",
      "552|tanete\n",
      "553|warqla does not exist\n",
      "554|roebourne\n",
      "555|vao\n",
      "556|oistins\n",
      "557|bolungarvik does not exist\n",
      "558|znamenskoye\n",
      "559|coahuayana\n",
      "560|tairua\n",
      "561|rock springs\n",
      "562|lakatoro\n",
      "563|san juan\n",
      "564|filadelfia\n",
      "565|heihe\n",
      "566|halalo does not exist\n",
      "567|hay river\n",
      "568|taoudenni\n",
      "569|altus\n",
      "570|mentok does not exist\n"
     ]
    },
    {
     "name": "stdout",
     "output_type": "stream",
     "text": [
      "571|liverpool\n",
      "572|morropon\n",
      "573|mozarlandia\n",
      "574|sao paulo de olivenca\n",
      "575|great bend\n",
      "576|diamantino\n",
      "577|adrar\n",
      "578|abu samrah\n",
      "579|oum hadjer\n",
      "580|linhares\n",
      "581|shelburne\n",
      "582|guarapari\n",
      "583|porbandar\n",
      "584|huarmey\n",
      "585|badarganj\n",
      "586|rafaela\n",
      "587|melita\n",
      "588|sydney\n",
      "589|licata\n",
      "590|vikyrovice\n",
      "591|ciudad real\n",
      "592|ayorou\n",
      "593|wad rawah\n",
      "594|quelimane\n",
      "595|santa maria\n",
      "596|batticaloa\n",
      "597|saint-raymond\n",
      "598|floro\n",
      "599|makakilo city\n",
      "600|storebo\n",
      "601|ahipara\n",
      "602|bahia honda\n",
      "603|lokoja\n",
      "604|singanallur\n",
      "605|fredericton\n",
      "606|rodrigues alves\n",
      "607|chumikan\n",
      "608|arrecife\n",
      "609|fairbanks\n",
      "610|grand-lahou\n",
      "611|harmanli\n",
      "612|chalmette\n",
      "613|bardiyah\n",
      "614|pontal do parana\n",
      "615|vagur\n",
      "616|kumukh\n",
      "617|cayenne\n",
      "618|seymchan\n",
      "619|malindi\n",
      "620|steamboat springs\n",
      "621|griffith\n",
      "622|mendahara does not exist\n",
      "623|rudbar\n",
      "624|dingle\n",
      "625|east brainerd\n",
      "626|amasya\n",
      "627|cintalapa\n",
      "628|takoradi\n",
      "629|flinders\n",
      "630|zhangye\n",
      "631|krasnokholmskiy\n",
      "632|rassvet\n",
      "633|minsk\n",
      "634|sao felix do xingu\n",
      "635|tabiauea does not exist\n",
      "636|jinchengjiang does not exist\n",
      "637|vardo\n",
      "638|shingu\n",
      "639|cascais\n",
      "640|soyo\n",
      "641|sinkat does not exist\n",
      "642|sola\n",
      "643|dano\n",
      "644|rostovka\n",
      "645|sokoni\n",
      "646|corinto\n",
      "647|sulurpeta does not exist\n",
      "648|betlitsa\n",
      "649|seoul\n",
      "650|chicama\n"
     ]
    }
   ],
   "source": [
    "#Setting variables equal to a list \n",
    "name_list = []\n",
    "temp_list  = []\n",
    "hum_list = []\n",
    "cloud_list = []\n",
    "wind_speed_list = []\n",
    "lat_list = []\n",
    "lon_list = []\n",
    "\n",
    "#Setting the counter equal to a number \n",
    "counter = 1\n",
    "\n",
    "#Setting the correct url and bulding the query url \n",
    "url =  'http://api.openweathermap.org/data/2.5/weather?'\n",
    "\n",
    "print(f'City List')\n",
    "print('-----------------------')\n",
    "\n",
    "#Making a for loop to get the elements for each city\n",
    "for city in city_list:\n",
    "    try:\n",
    "        query_url = url + 'appid=' + api_key + '&q=' + city + '&units=imperial'\n",
    "        weather_response = requests.get(query_url)\n",
    "        weather_data = weather_response.json()\n",
    "        \n",
    "        #Making a list of all the elements needed for the Data Frame \n",
    "        name_list.append(weather_data['name'])\n",
    "        temp_list.append(weather_data['main']['temp_max'])\n",
    "        hum_list.append(weather_data['main']['humidity'])\n",
    "        cloud_list.append(weather_data['clouds']['all'])\n",
    "        wind_speed_list.append(weather_data['wind']['speed'])\n",
    "        lat_list.append(weather_data['coord']['lat'])\n",
    "        lon_list.append(weather_data['coord']['lon'])\n",
    "        \n",
    "        #Print the number of the city and the city name \n",
    "        print(f'{counter}|{city}')\n",
    "        \n",
    "    #Continuing to run even if the city is not found \n",
    "    except KeyError:\n",
    "        \n",
    "        #Printing the name of the city that does not exist on the open weather api\n",
    "        print(f'{counter}|{city} does not exist')\n",
    "    \n",
    "    #Adding one to the counter \n",
    "    counter +=1"
   ]
  },
  {
   "cell_type": "code",
   "execution_count": 7,
   "metadata": {},
   "outputs": [],
   "source": [
    "city_data = {'City':name_list,\n",
    "        'Temperature °F':temp_list,\n",
    "        'Humidity':hum_list,\n",
    "        'Cloudiness':cloud_list,\n",
    "        'Wind Speed':wind_speed_list,\n",
    "        'Latitude':lat_list,\n",
    "        'Longitude':lon_list}\n",
    "city_data_pd = pd.DataFrame(city_data)"
   ]
  },
  {
   "cell_type": "markdown",
   "metadata": {},
   "source": [
    "### Convert Raw Data to DataFrame\n",
    "* Export the city data into a .csv.\n",
    "* Display the DataFrame"
   ]
  },
  {
   "cell_type": "code",
   "execution_count": 8,
   "metadata": {},
   "outputs": [
    {
     "data": {
      "text/html": [
       "<div>\n",
       "<style scoped>\n",
       "    .dataframe tbody tr th:only-of-type {\n",
       "        vertical-align: middle;\n",
       "    }\n",
       "\n",
       "    .dataframe tbody tr th {\n",
       "        vertical-align: top;\n",
       "    }\n",
       "\n",
       "    .dataframe thead th {\n",
       "        text-align: right;\n",
       "    }\n",
       "</style>\n",
       "<table border=\"1\" class=\"dataframe\">\n",
       "  <thead>\n",
       "    <tr style=\"text-align: right;\">\n",
       "      <th></th>\n",
       "      <th>City</th>\n",
       "      <th>Temperature °F</th>\n",
       "      <th>Humidity</th>\n",
       "      <th>Cloudiness</th>\n",
       "      <th>Wind Speed</th>\n",
       "      <th>Latitude</th>\n",
       "      <th>Longitude</th>\n",
       "    </tr>\n",
       "  </thead>\n",
       "  <tbody>\n",
       "    <tr>\n",
       "      <th>0</th>\n",
       "      <td>Martyush</td>\n",
       "      <td>45.88</td>\n",
       "      <td>91</td>\n",
       "      <td>4</td>\n",
       "      <td>7.40</td>\n",
       "      <td>56.40</td>\n",
       "      <td>61.88</td>\n",
       "    </tr>\n",
       "    <tr>\n",
       "      <th>1</th>\n",
       "      <td>La Ronge</td>\n",
       "      <td>50.00</td>\n",
       "      <td>66</td>\n",
       "      <td>75</td>\n",
       "      <td>13.87</td>\n",
       "      <td>55.10</td>\n",
       "      <td>-105.28</td>\n",
       "    </tr>\n",
       "    <tr>\n",
       "      <th>2</th>\n",
       "      <td>Laguna</td>\n",
       "      <td>91.99</td>\n",
       "      <td>21</td>\n",
       "      <td>1</td>\n",
       "      <td>11.41</td>\n",
       "      <td>38.42</td>\n",
       "      <td>-121.42</td>\n",
       "    </tr>\n",
       "    <tr>\n",
       "      <th>3</th>\n",
       "      <td>Arrondissement d'Ajaccio</td>\n",
       "      <td>55.40</td>\n",
       "      <td>82</td>\n",
       "      <td>65</td>\n",
       "      <td>3.36</td>\n",
       "      <td>42.00</td>\n",
       "      <td>8.92</td>\n",
       "    </tr>\n",
       "    <tr>\n",
       "      <th>4</th>\n",
       "      <td>Srednekolymsk</td>\n",
       "      <td>41.38</td>\n",
       "      <td>66</td>\n",
       "      <td>100</td>\n",
       "      <td>10.07</td>\n",
       "      <td>67.45</td>\n",
       "      <td>153.68</td>\n",
       "    </tr>\n",
       "    <tr>\n",
       "      <th>...</th>\n",
       "      <td>...</td>\n",
       "      <td>...</td>\n",
       "      <td>...</td>\n",
       "      <td>...</td>\n",
       "      <td>...</td>\n",
       "      <td>...</td>\n",
       "      <td>...</td>\n",
       "    </tr>\n",
       "    <tr>\n",
       "      <th>592</th>\n",
       "      <td>Sokoni</td>\n",
       "      <td>75.20</td>\n",
       "      <td>88</td>\n",
       "      <td>0</td>\n",
       "      <td>9.89</td>\n",
       "      <td>-6.43</td>\n",
       "      <td>39.55</td>\n",
       "    </tr>\n",
       "    <tr>\n",
       "      <th>593</th>\n",
       "      <td>Corinth</td>\n",
       "      <td>66.99</td>\n",
       "      <td>56</td>\n",
       "      <td>1</td>\n",
       "      <td>1.01</td>\n",
       "      <td>37.94</td>\n",
       "      <td>22.96</td>\n",
       "    </tr>\n",
       "    <tr>\n",
       "      <th>594</th>\n",
       "      <td>Betlitsa</td>\n",
       "      <td>58.19</td>\n",
       "      <td>49</td>\n",
       "      <td>100</td>\n",
       "      <td>7.23</td>\n",
       "      <td>54.01</td>\n",
       "      <td>33.96</td>\n",
       "    </tr>\n",
       "    <tr>\n",
       "      <th>595</th>\n",
       "      <td>Seoul</td>\n",
       "      <td>59.00</td>\n",
       "      <td>93</td>\n",
       "      <td>1</td>\n",
       "      <td>2.17</td>\n",
       "      <td>37.57</td>\n",
       "      <td>126.98</td>\n",
       "    </tr>\n",
       "    <tr>\n",
       "      <th>596</th>\n",
       "      <td>Chicama</td>\n",
       "      <td>69.94</td>\n",
       "      <td>61</td>\n",
       "      <td>22</td>\n",
       "      <td>9.64</td>\n",
       "      <td>-7.84</td>\n",
       "      <td>-79.15</td>\n",
       "    </tr>\n",
       "  </tbody>\n",
       "</table>\n",
       "<p>597 rows × 7 columns</p>\n",
       "</div>"
      ],
      "text/plain": [
       "                         City  Temperature °F  Humidity  Cloudiness  \\\n",
       "0                    Martyush           45.88        91           4   \n",
       "1                    La Ronge           50.00        66          75   \n",
       "2                      Laguna           91.99        21           1   \n",
       "3    Arrondissement d'Ajaccio           55.40        82          65   \n",
       "4               Srednekolymsk           41.38        66         100   \n",
       "..                        ...             ...       ...         ...   \n",
       "592                    Sokoni           75.20        88           0   \n",
       "593                   Corinth           66.99        56           1   \n",
       "594                  Betlitsa           58.19        49         100   \n",
       "595                     Seoul           59.00        93           1   \n",
       "596                   Chicama           69.94        61          22   \n",
       "\n",
       "     Wind Speed  Latitude  Longitude  \n",
       "0          7.40     56.40      61.88  \n",
       "1         13.87     55.10    -105.28  \n",
       "2         11.41     38.42    -121.42  \n",
       "3          3.36     42.00       8.92  \n",
       "4         10.07     67.45     153.68  \n",
       "..          ...       ...        ...  \n",
       "592        9.89     -6.43      39.55  \n",
       "593        1.01     37.94      22.96  \n",
       "594        7.23     54.01      33.96  \n",
       "595        2.17     37.57     126.98  \n",
       "596        9.64     -7.84     -79.15  \n",
       "\n",
       "[597 rows x 7 columns]"
      ]
     },
     "execution_count": 8,
     "metadata": {},
     "output_type": "execute_result"
    }
   ],
   "source": [
    "city_data_pd"
   ]
  },
  {
   "cell_type": "markdown",
   "metadata": {},
   "source": [
    "## Inspect the data and remove the cities where the humidity > 100%.\n",
    "----\n",
    "Skip this step if there are no cities that have humidity > 100%. "
   ]
  },
  {
   "cell_type": "code",
   "execution_count": 9,
   "metadata": {},
   "outputs": [
    {
     "data": {
      "text/html": [
       "<div>\n",
       "<style scoped>\n",
       "    .dataframe tbody tr th:only-of-type {\n",
       "        vertical-align: middle;\n",
       "    }\n",
       "\n",
       "    .dataframe tbody tr th {\n",
       "        vertical-align: top;\n",
       "    }\n",
       "\n",
       "    .dataframe thead th {\n",
       "        text-align: right;\n",
       "    }\n",
       "</style>\n",
       "<table border=\"1\" class=\"dataframe\">\n",
       "  <thead>\n",
       "    <tr style=\"text-align: right;\">\n",
       "      <th></th>\n",
       "      <th>City</th>\n",
       "      <th>Temperature °F</th>\n",
       "      <th>Humidity</th>\n",
       "      <th>Cloudiness</th>\n",
       "      <th>Wind Speed</th>\n",
       "      <th>Latitude</th>\n",
       "      <th>Longitude</th>\n",
       "    </tr>\n",
       "  </thead>\n",
       "  <tbody>\n",
       "  </tbody>\n",
       "</table>\n",
       "</div>"
      ],
      "text/plain": [
       "Empty DataFrame\n",
       "Columns: [City, Temperature °F, Humidity, Cloudiness, Wind Speed, Latitude, Longitude]\n",
       "Index: []"
      ]
     },
     "execution_count": 9,
     "metadata": {},
     "output_type": "execute_result"
    }
   ],
   "source": [
    "city_data_pd.loc[city_data_pd['Humidity']>100]"
   ]
  },
  {
   "cell_type": "code",
   "execution_count": 10,
   "metadata": {},
   "outputs": [],
   "source": [
    "#  Get the indices of cities that have humidity over 100%.\n"
   ]
  },
  {
   "cell_type": "code",
   "execution_count": 11,
   "metadata": {},
   "outputs": [],
   "source": [
    "# Make a new DataFrame equal to the city data to drop all humidity outliers by index.\n",
    "# Passing \"inplace=False\" will make a copy of the city_data DataFrame, which we call \"clean_city_data\".\n"
   ]
  },
  {
   "cell_type": "code",
   "execution_count": null,
   "metadata": {},
   "outputs": [],
   "source": [
    "\n"
   ]
  },
  {
   "cell_type": "markdown",
   "metadata": {},
   "source": [
    "## Plotting the Data\n",
    "* Use proper labeling of the plots using plot titles (including date of analysis) and axes labels.\n",
    "* Save the plotted figures as .pngs."
   ]
  },
  {
   "cell_type": "markdown",
   "metadata": {},
   "source": [
    "## Latitude vs. Temperature Plot"
   ]
  },
  {
   "cell_type": "code",
   "execution_count": 12,
   "metadata": {
    "scrolled": true
   },
   "outputs": [
    {
     "data": {
      "text/plain": [
       "Text(0.5, 1.0, 'Latitude v Temperature °F')"
      ]
     },
     "execution_count": 12,
     "metadata": {},
     "output_type": "execute_result"
    },
    {
     "data": {
      "image/png": "[encoded data removed]",
      "text/plain": [
       "<Figure size 432x288 with 1 Axes>"
      ]
     },
     "metadata": {
      "needs_background": "light"
     },
     "output_type": "display_data"
    }
   ],
   "source": [
    "x_values = city_data_pd['Latitude']\n",
    "y_values = city_data_pd['Temperature °F']\n",
    "\n",
    "(slope, intercept, rvalue, pvalue, stderr) = linregress(x_values, y_values)\n",
    "regress_values = x_values * slope + intercept \n",
    "line_eq = 'y =' + str(round(slope,2)) +'x +' + str(round(intercept,2))\n",
    "\n",
    "plt.scatter(x_values, y_values)\n",
    "\n",
    "plt.plot(x_values, regress_values, 'r-')\n",
    "plt.annotate(line_eq, (6,10), fontsize = 15, color = 'red')\n",
    "\n",
    "plt.xlabel('Latitude')\n",
    "plt.ylabel('Temperature °F')\n",
    "plt.title('Latitude v Temperature °F')"
   ]
  },
  {
   "cell_type": "markdown",
   "metadata": {},
   "source": [
    "## Latitude vs. Humidity Plot"
   ]
  },
  {
   "cell_type": "code",
   "execution_count": 13,
   "metadata": {},
   "outputs": [
    {
     "data": {
      "text/plain": [
       "Text(0.5, 1.0, 'Latitude v Humidity')"
      ]
     },
     "execution_count": 13,
     "metadata": {},
     "output_type": "execute_result"
    },
    {
     "data": {
      "image/png": "[encoded data removed]",
      "text/plain": [
       "<Figure size 432x288 with 1 Axes>"
      ]
     },
     "metadata": {
      "needs_background": "light"
     },
     "output_type": "display_data"
    }
   ],
   "source": [
    "x_values = city_data_pd['Latitude']\n",
    "y_values = city_data_pd['Humidity']\n",
    "\n",
    "(slope, intercept, rvalue, pvalue, stderr) = linregress(x_values, y_values)\n",
    "regress_values = x_values * slope + intercept \n",
    "line_eq = 'y =' + str(round(slope,2)) +'x +' + str(round(intercept,2))\n",
    "\n",
    "plt.scatter(x_values, y_values)\n",
    "\n",
    "plt.plot(x_values, regress_values, 'r-')\n",
    "plt.annotate(line_eq, (6,10), fontsize = 15, color = 'red')\n",
    "\n",
    "plt.xlabel('Latitude')\n",
    "plt.ylabel('Humidity')\n",
    "plt.title('Latitude v Humidity')"
   ]
  },
  {
   "cell_type": "markdown",
   "metadata": {},
   "source": [
    "## Latitude vs. Cloudiness Plot"
   ]
  },
  {
   "cell_type": "code",
   "execution_count": 14,
   "metadata": {},
   "outputs": [
    {
     "data": {
      "text/plain": [
       "Text(0.5, 1.0, 'Latitude v Cloudiness')"
      ]
     },
     "execution_count": 14,
     "metadata": {},
     "output_type": "execute_result"
    },
    {
     "data": {
      "image/png": "[encoded data removed]",
      "text/plain": [
       "<Figure size 432x288 with 1 Axes>"
      ]
     },
     "metadata": {
      "needs_background": "light"
     },
     "output_type": "display_data"
    }
   ],
   "source": [
    "x_values = city_data_pd['Latitude']\n",
    "y_values = city_data_pd['Cloudiness']\n",
    "\n",
    "(slope, intercept, rvalue, pvalue, stderr) = linregress(x_values, y_values)\n",
    "regress_values = x_values * slope + intercept \n",
    "line_eq = 'y =' + str(round(slope,2)) +'x +' + str(round(intercept,2))\n",
    "\n",
    "plt.scatter(x_values, y_values)\n",
    "\n",
    "plt.plot(x_values, regress_values, 'r-')\n",
    "plt.annotate(line_eq, (6,10), fontsize = 15, color = 'red')\n",
    "\n",
    "plt.xlabel('Latitude')\n",
    "plt.ylabel('Clouiness')\n",
    "plt.title('Latitude v Cloudiness')"
   ]
  },
  {
   "cell_type": "markdown",
   "metadata": {},
   "source": [
    "## Latitude vs. Wind Speed Plot"
   ]
  },
  {
   "cell_type": "code",
   "execution_count": 15,
   "metadata": {},
   "outputs": [
    {
     "data": {
      "text/plain": [
       "Text(0.5, 1.0, 'Latitude v Wind Speed')"
      ]
     },
     "execution_count": 15,
     "metadata": {},
     "output_type": "execute_result"
    },
    {
     "data": {
      "image/png": "[encoded data removed]",
      "text/plain": [
       "<Figure size 432x288 with 1 Axes>"
      ]
     },
     "metadata": {
      "needs_background": "light"
     },
     "output_type": "display_data"
    }
   ],
   "source": [
    "x_values = city_data_pd['Latitude']\n",
    "y_values = city_data_pd['Wind Speed']\n",
    "\n",
    "(slope, intercept, rvalue, pvalue, stderr) = linregress(x_values, y_values)\n",
    "regress_values = x_values * slope + intercept \n",
    "line_eq = 'y =' + str(round(slope,2)) +'x +' + str(round(intercept,2))\n",
    "\n",
    "plt.scatter(x_values, y_values)\n",
    "\n",
    "plt.plot(x_values, regress_values, 'r-')\n",
    "plt.annotate(line_eq, (6,10), fontsize = 15, color = 'red')\n",
    "\n",
    "plt.xlabel('Latitude')\n",
    "plt.ylabel('Wind Speed')\n",
    "plt.title('Latitude v Wind Speed')"
   ]
  },
  {
   "cell_type": "markdown",
   "metadata": {},
   "source": [
    "## Linear Regression"
   ]
  },
  {
   "cell_type": "code",
   "execution_count": null,
   "metadata": {},
   "outputs": [],
   "source": []
  },
  {
   "cell_type": "markdown",
   "metadata": {},
   "source": [
    "####  Northern Hemisphere - Max Temp vs. Latitude Linear Regression"
   ]
  },
  {
   "cell_type": "code",
   "execution_count": 16,
   "metadata": {},
   "outputs": [
    {
     "data": {
      "text/plain": [
       "Text(0.5, 1.0, 'Latitude v Temperature °F')"
      ]
     },
     "execution_count": 16,
     "metadata": {},
     "output_type": "execute_result"
    },
    {
     "data": {
      "image/png": "[encoded data removed]",
      "text/plain": [
       "<Figure size 432x288 with 1 Axes>"
      ]
     },
     "metadata": {
      "needs_background": "light"
     },
     "output_type": "display_data"
    }
   ],
   "source": [
    "north_hem_pd = city_data_pd.loc[city_data_pd['Latitude']>=0]\n",
    "\n",
    "x_values = north_hem_pd['Latitude']\n",
    "y_values = north_hem_pd['Temperature °F']\n",
    "\n",
    "(slope, intercept, rvalue, pvalue, stderr) = linregress(x_values, y_values)\n",
    "regress_values = x_values * slope + intercept \n",
    "line_eq = 'y =' + str(round(slope,2)) +'x +' + str(round(intercept,2))\n",
    "\n",
    "plt.scatter(x_values, y_values)\n",
    "\n",
    "plt.plot(x_values, regress_values, 'r-')\n",
    "plt.annotate(line_eq, (6,10), fontsize = 15, color = 'red')\n",
    "\n",
    "plt.xlabel('Latitude')\n",
    "plt.ylabel('Temperature °F')\n",
    "plt.title('Latitude v Temperature °F')\n"
   ]
  },
  {
   "cell_type": "markdown",
   "metadata": {},
   "source": [
    "####  Southern Hemisphere - Max Temp vs. Latitude Linear Regression"
   ]
  },
  {
   "cell_type": "code",
   "execution_count": 17,
   "metadata": {},
   "outputs": [
    {
     "data": {
      "text/plain": [
       "Text(0.5, 1.0, 'Latitude v Temperature °F')"
      ]
     },
     "execution_count": 17,
     "metadata": {},
     "output_type": "execute_result"
    },
    {
     "data": {
      "image/png": "[encoded data removed]",
      "text/plain": [
       "<Figure size 432x288 with 1 Axes>"
      ]
     },
     "metadata": {
      "needs_background": "light"
     },
     "output_type": "display_data"
    }
   ],
   "source": [
    "south_hem_pd = city_data_pd.loc[city_data_pd['Latitude']<0]\n",
    "\n",
    "x_values = south_hem_pd['Latitude']\n",
    "y_values = south_hem_pd['Temperature °F']\n",
    "\n",
    "(slope, intercept, rvalue, pvalue, stderr) = linregress(x_values, y_values)\n",
    "regress_values = x_values * slope + intercept \n",
    "line_eq = 'y =' + str(round(slope,2)) +'x +' + str(round(intercept,2))\n",
    "\n",
    "plt.scatter(x_values, y_values)\n",
    "\n",
    "plt.plot(x_values, regress_values, 'r-')\n",
    "plt.annotate(line_eq, (6,10), fontsize = 15, color = 'red')\n",
    "\n",
    "plt.xlabel('Latitude')\n",
    "plt.ylabel('Temperature °F')\n",
    "plt.title('Latitude v Temperature °F')\n"
   ]
  },
  {
   "cell_type": "markdown",
   "metadata": {},
   "source": [
    "####  Northern Hemisphere - Humidity (%) vs. Latitude Linear Regression"
   ]
  },
  {
   "cell_type": "code",
   "execution_count": 18,
   "metadata": {},
   "outputs": [
    {
     "data": {
      "text/plain": [
       "Text(0.5, 1.0, 'Latitude v Humidity')"
      ]
     },
     "execution_count": 18,
     "metadata": {},
     "output_type": "execute_result"
    },
    {
     "data": {
      "image/png": "[encoded data removed]",
      "text/plain": [
       "<Figure size 432x288 with 1 Axes>"
      ]
     },
     "metadata": {
      "needs_background": "light"
     },
     "output_type": "display_data"
    }
   ],
   "source": [
    "x_values = north_hem_pd['Latitude']\n",
    "y_values = north_hem_pd['Humidity']\n",
    "\n",
    "(slope, intercept, rvalue, pvalue, stderr) = linregress(x_values, y_values)\n",
    "regress_values = x_values * slope + intercept \n",
    "line_eq = 'y =' + str(round(slope,2)) +'x +' + str(round(intercept,2))\n",
    "\n",
    "plt.scatter(x_values, y_values)\n",
    "\n",
    "plt.plot(x_values, regress_values, 'r-')\n",
    "plt.annotate(line_eq, (6,10), fontsize = 15, color = 'red')\n",
    "\n",
    "plt.xlabel('Latitude')\n",
    "plt.ylabel('Humidity')\n",
    "plt.title('Latitude v Humidity')\n"
   ]
  },
  {
   "cell_type": "markdown",
   "metadata": {},
   "source": [
    "####  Southern Hemisphere - Humidity (%) vs. Latitude Linear Regression"
   ]
  },
  {
   "cell_type": "code",
   "execution_count": 19,
   "metadata": {},
   "outputs": [
    {
     "data": {
      "text/plain": [
       "Text(0.5, 1.0, 'Latitude v Humidity')"
      ]
     },
     "execution_count": 19,
     "metadata": {},
     "output_type": "execute_result"
    },
    {
     "data": {
      "image/png": "[encoded data removed]",
      "text/plain": [
       "<Figure size 432x288 with 1 Axes>"
      ]
     },
     "metadata": {
      "needs_background": "light"
     },
     "output_type": "display_data"
    }
   ],
   "source": [
    "x_values = south_hem_pd['Latitude']\n",
    "y_values = south_hem_pd['Humidity']\n",
    "\n",
    "(slope, intercept, rvalue, pvalue, stderr) = linregress(x_values, y_values)\n",
    "regress_values = x_values * slope + intercept \n",
    "line_eq = 'y =' + str(round(slope,2)) +'x +' + str(round(intercept,2))\n",
    "\n",
    "plt.scatter(x_values, y_values)\n",
    "\n",
    "plt.plot(x_values, regress_values, 'r-')\n",
    "plt.annotate(line_eq, (6,10), fontsize = 15, color = 'red')\n",
    "\n",
    "plt.xlabel('Latitude')\n",
    "plt.ylabel('Humidity')\n",
    "plt.title('Latitude v Humidity')"
   ]
  },
  {
   "cell_type": "markdown",
   "metadata": {},
   "source": [
    "####  Northern Hemisphere - Cloudiness (%) vs. Latitude Linear Regression"
   ]
  },
  {
   "cell_type": "code",
   "execution_count": 62,
   "metadata": {},
   "outputs": [
    {
     "data": {
      "text/plain": [
       "Text(0.5, 1.0, 'Latitude v Cloudiness')"
      ]
     },
     "execution_count": 62,
     "metadata": {},
     "output_type": "execute_result"
    },
    {
     "data": {
      "image/png": "[encoded data removed]",
      "text/plain": [
       "<Figure size 432x288 with 1 Axes>"
      ]
     },
     "metadata": {
      "needs_background": "light"
     },
     "output_type": "display_data"
    }
   ],
   "source": [
    "x_values = north_hem_pd['Latitude']\n",
    "y_values = north_hem_pd['Cloudiness']\n",
    "\n",
    "(slope, intercept, rvalue, pvalue, stderr) = linregress(x_values, y_values)\n",
    "regress_values = x_values * slope + intercept \n",
    "line_eq = 'y =' + str(round(slope,2)) +'x +' + str(round(intercept,2))\n",
    "\n",
    "plt.scatter(x_values, y_values)\n",
    "\n",
    "plt.plot(x_values, regress_values, 'r-')\n",
    "plt.annotate(line_eq, (6,10), fontsize = 15, color = 'red')\n",
    "\n",
    "plt.xlabel('Latitude')\n",
    "plt.ylabel('Cloudiness')\n",
    "plt.title('Latitude v Cloudiness')"
   ]
  },
  {
   "cell_type": "markdown",
   "metadata": {},
   "source": [
    "####  Southern Hemisphere - Cloudiness (%) vs. Latitude Linear Regression"
   ]
  },
  {
   "cell_type": "code",
   "execution_count": 66,
   "metadata": {},
   "outputs": [
    {
     "data": {
      "text/plain": [
       "Text(0.5, 1.0, 'Latitude v Cloudiness')"
      ]
     },
     "execution_count": 66,
     "metadata": {},
     "output_type": "execute_result"
    },
    {
     "data": {
      "image/png": "[encoded data removed]",
      "text/plain": [
       "<Figure size 432x288 with 1 Axes>"
      ]
     },
     "metadata": {
      "needs_background": "light"
     },
     "output_type": "display_data"
    }
   ],
   "source": [
    "x_values = south_hem_pd['Latitude']\n",
    "y_values = south_hem_pd['Cloudiness']\n",
    "\n",
    "(slope, intercept, rvalue, pvalue, stderr) = linregress(x_values, y_values)\n",
    "regress_values = x_values * slope + intercept \n",
    "line_eq = 'y =' + str(round(slope,2)) +'x +' + str(round(intercept,2))\n",
    "\n",
    "plt.scatter(x_values, y_values)\n",
    "\n",
    "plt.plot(x_values, regress_values, 'r-')\n",
    "plt.annotate(line_eq, (6,10), fontsize = 15, color = 'red')\n",
    "\n",
    "plt.xlabel('Latitude')\n",
    "plt.ylabel('Cloudiness')\n",
    "plt.title('Latitude v Cloudiness')"
   ]
  },
  {
   "cell_type": "markdown",
   "metadata": {},
   "source": [
    "####  Northern Hemisphere - Wind Speed (mph) vs. Latitude Linear Regression"
   ]
  },
  {
   "cell_type": "code",
   "execution_count": 61,
   "metadata": {},
   "outputs": [
    {
     "data": {
      "text/plain": [
       "Text(0.5, 1.0, 'Latitude v Wind Speed')"
      ]
     },
     "execution_count": 61,
     "metadata": {},
     "output_type": "execute_result"
    },
    {
     "data": {
      "image/png": "[encoded data removed]",
      "text/plain": [
       "<Figure size 432x288 with 1 Axes>"
      ]
     },
     "metadata": {
      "needs_background": "light"
     },
     "output_type": "display_data"
    }
   ],
   "source": [
    "x_values = north_hem_pd['Latitude']\n",
    "y_values = north_hem_pd['Wind Speed']\n",
    "\n",
    "(slope, intercept, rvalue, pvalue, stderr) = linregress(x_values, y_values)\n",
    "regress_values = x_values * slope + intercept \n",
    "line_eq = 'y =' + str(round(slope,2)) +'x +' + str(round(intercept,2))\n",
    "\n",
    "plt.scatter(x_values, y_values)\n",
    "\n",
    "plt.plot(x_values, regress_values, 'r-')\n",
    "plt.annotate(line_eq, (6,10), fontsize = 15, color = 'red')\n",
    "\n",
    "plt.xlabel('Latitude')\n",
    "plt.ylabel('Wind Speed(mph)')\n",
    "plt.title('Latitude v Wind Speed(mph)')"
   ]
  },
  {
   "cell_type": "markdown",
   "metadata": {},
   "source": [
    "####  Southern Hemisphere - Wind Speed (mph) vs. Latitude Linear Regression"
   ]
  },
  {
   "cell_type": "code",
   "execution_count": 67,
   "metadata": {},
   "outputs": [
    {
     "data": {
      "text/plain": [
       "Text(0.5, 1.0, 'Latitude v Wind Speed')"
      ]
     },
     "execution_count": 67,
     "metadata": {},
     "output_type": "execute_result"
    },
    {
     "data": {
      "image/png": "[encoded data removed]",
      "text/plain": [
       "<Figure size 432x288 with 1 Axes>"
      ]
     },
     "metadata": {
      "needs_background": "light"
     },
     "output_type": "display_data"
    }
   ],
   "source": [
    "x_values = south_hem_pd['Latitude']\n",
    "y_values = south_hem_pd['Wind Speed']\n",
    "\n",
    "(slope, intercept, rvalue, pvalue, stderr) = linregress(x_values, y_values)\n",
    "regress_values = x_values * slope + intercept \n",
    "line_eq = 'y =' + str(round(slope,2)) +'x +' + str(round(intercept,2))\n",
    "\n",
    "plt.scatter(x_values, y_values)\n",
    "\n",
    "plt.plot(x_values, regress_values, 'r-')\n",
    "plt.annotate(line_eq, (6,10), fontsize = 15, color = 'red')\n",
    "\n",
    "plt.xlabel('Latitude')\n",
    "plt.ylabel('Wind Speed(mph)')\n",
    "plt.title('Latitude v Wind Speed')"
   ]
  },
  {
   "cell_type": "code",
   "execution_count": null,
   "metadata": {},
   "outputs": [],
   "source": []
  }
 ],
 "metadata": {
  "anaconda-cloud": {},
  "kernel_info": {
   "name": "python3"
  },
  "kernelspec": {
   "display_name": "Python 3",
   "language": "python",
   "name": "python3"
  },
  "latex_envs": {
   "LaTeX_envs_menu_present": true,
   "autoclose": false,
   "autocomplete": true,
   "bibliofile": "biblio.bib",
   "cite_by": "apalike",
   "current_citInitial": 1,
   "eqLabelWithNumbers": true,
   "eqNumInitial": 1,
   "hotkeys": {
    "equation": "Ctrl-E",
    "itemize": "Ctrl-I"
   },
   "labels_anchors": false,
   "latex_user_defs": false,
   "report_style_numbering": false,
   "user_envs_cfg": false
  },
  "nteract": {
   "version": "0.12.3"
  }
 },
 "nbformat": 4,
 "nbformat_minor": 2
}
